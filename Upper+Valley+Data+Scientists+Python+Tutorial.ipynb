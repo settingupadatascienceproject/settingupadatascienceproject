{
 "cells": [
  {
   "cell_type": "code",
   "execution_count": 1,
   "metadata": {
    "collapsed": false
   },
   "outputs": [
    {
     "name": "stdout",
     "output_type": "stream",
     "text": [
      "Hello Upper Valley VT/NH Data Scientists\n",
      "Data Science\n",
      "6\n",
      "7 + 2 = 9\n",
      "7 - 2 = 5\n",
      "7 * 2 = 14\n",
      "7 / 2 = 3.5\n",
      "7 % 2 = 1\n",
      "7 ** 2 = 49\n",
      "7 // 2 = 3\n",
      "1 + 7 - 3 * 2 = 2\n",
      "(1 + 7 - 3) * 2 = 10\n",
      "\"Data Science is interesting, and\n",
      "so is Python\" \n",
      "I like the quote \"Data Science is interesting,  and\n",
      "so is Python\" \n",
      "No more newlines\n"
     ]
    }
   ],
   "source": [
    "# import is used to make specialty functions available\n",
    "# These are called modules\n",
    "import random\n",
    "import sys\n",
    "import os\n",
    " \n",
    "# Hello world is just one line of code\n",
    "# print() outputs data to the screen\n",
    "print(\"Hello Upper Valley VT/NH Data Scientists\")\n",
    " \n",
    "'''\n",
    "This is a multi-line comment\n",
    "'''\n",
    " \n",
    "# A variable is a place to store values\n",
    "# Its name is like a label for that value\n",
    "name = \"Data Science\"\n",
    "print(name)\n",
    " \n",
    "# A variable name can contain letters, numbers, or _\n",
    "# but can't start with a number\n",
    " \n",
    "# There are 5 data types Numbers, Strings, List, Tuple, Dictionary\n",
    "# You can store any of them in the same variable\n",
    " \n",
    "name = 6\n",
    "print(name)\n",
    " \n",
    "# The arithmetic operators +, -, *, /, %, **, //\n",
    "# ** Exponential calculation\n",
    "# // Floor Division\n",
    "print(\"7 + 2 =\", 7+2)\n",
    "print(\"7 - 2 =\", 7-2)\n",
    "print(\"7 * 2 =\", 7*2)\n",
    "print(\"7 / 2 =\", 7/2)\n",
    "print(\"7 % 2 =\", 7%2)\n",
    "print(\"7 ** 2 =\", 7**2)\n",
    "print(\"7 // 2 =\", 7//2)\n",
    " \n",
    "# Order of Operation states * and / is performed before + and -\n",
    " \n",
    "print(\"1 + 7 - 3 * 2 =\", 1 + 7 - 3 * 2)\n",
    "print(\"(1 + 7 - 3) * 2 =\", (1 + 7 - 3) * 2)\n",
    " \n",
    "# A string is a string of characters surrounded by \" or '\n",
    "# If you must use a \" or ' between the same quote escape it with \\\n",
    "quote = \"\\\"Data Science is interesting,\"\n",
    " \n",
    "# A multi-line quote\n",
    "multi_line_quote = ''' and\n",
    "so is Python\" '''\n",
    " \n",
    "print(quote + multi_line_quote)\n",
    " \n",
    "# To embed a string in output use %s\n",
    "print(\"%s %s %s\" % ('I like the quote', quote, multi_line_quote))\n",
    " \n",
    "# To keep from printing newlines use end=\"\"\n",
    "print(\"No more \",end=\"\")\n",
    "print(\"newlines\")"
   ]
  },
  {
   "cell_type": "code",
   "execution_count": 8,
   "metadata": {
    "collapsed": false
   },
   "outputs": [
    {
     "name": "stdout",
     "output_type": "stream",
     "text": [
      "First skikit_learn_list concept: classification\n",
      "First skikit_learn_list concept is now: scipy\n",
      "['regresssion', 'clustering']\n",
      "[['IPython', 'numpy', 'pandas'], ['scipy', 'regresssion', 'clustering', 'dimensionality reduction', 'model selection', 'preprocessing']]\n",
      "regresssion\n"
     ]
    }
   ],
   "source": [
    "scikit_learn_list = ['classification', 'regresssion', 'clustering', 'dimensionality reduction', 'model selection', 'preprocessing']\n",
    "print('First skikit_learn_list concept:', scikit_learn_list[0])\n",
    "scikit_learn_list[0] = \"scipy\" # Add the SciPy stack item to the scikit_learn_list\n",
    "print('First skikit_learn_list concept is now:', scikit_learn_list[0])\n",
    "print(scikit_learn_list[1:3])\n",
    "scipy_tools = ['IPython', 'numpy', 'pandas']\n",
    "datascience_in_python_list = [scipy_tools, scikit_learn_list] # Append the two lists together\n",
    "print(datascience_in_python_list)\n",
    "print((datascience_in_python_list[1][1])) # Second item in the second list (zero-indexed)\n"
   ]
  },
  {
   "cell_type": "code",
   "execution_count": 10,
   "metadata": {
    "collapsed": false
   },
   "outputs": [
    {
     "name": "stdout",
     "output_type": "stream",
     "text": [
      "[['IPython', 'numpy', 'pandas'], ['scipy', 'regresssion', 'preprocessing', 'model selection', 'jupyter', 'dimensionality reduction', 'clustering', 'jupyter']]\n",
      "['scipy', 'nbviewer', 'regresssion', 'preprocessing', 'model selection', 'jupyter', 'dimensionality reduction', 'clustering', 'jupyter']\n",
      "['scipy', 'regresssion', 'preprocessing', 'model selection', 'jupyter', 'dimensionality reduction', 'clustering', 'jupyter']\n",
      "['clustering', 'dimensionality reduction', 'jupyter', 'jupyter', 'model selection', 'preprocessing', 'regresssion', 'scipy']\n",
      "['scipy', 'regresssion', 'preprocessing', 'model selection', 'jupyter', 'jupyter', 'dimensionality reduction', 'clustering']\n",
      "[['IPython', 'numpy', 'pandas'], ['scipy', 'regresssion', 'preprocessing', 'model selection', 'jupyter', 'dimensionality reduction', 'clustering']]\n"
     ]
    }
   ],
   "source": [
    "scikit_learn_list.append('jupyter')\n",
    "print(datascience_in_python_list)\n",
    "scikit_learn_list.insert(1, \"nbviewer\")\n",
    "print(scikit_learn_list)\n",
    "scikit_learn_list.remove(\"nbviewer\")\n",
    "print(scikit_learn_list)\n",
    "scikit_learn_list.sort()\n",
    "print(scikit_learn_list)\n",
    "scikit_learn_list.reverse()\n",
    "print(scikit_learn_list)\n",
    "del scikit_learn_list[4]\n",
    "print(datascience_in_python_list)"
   ]
  },
  {
   "cell_type": "code",
   "execution_count": 13,
   "metadata": {
    "collapsed": false
   },
   "outputs": [
    {
     "name": "stdout",
     "output_type": "stream",
     "text": [
      "['IPython', 'numpy', 'pandas', 'scipy', 'regresssion', 'preprocessing', 'model selection', 'jupyter', 'dimensionality reduction', 'clustering']\n",
      "10\n",
      "scipy\n",
      "IPython\n"
     ]
    }
   ],
   "source": [
    "datascience_in_python_list2 = scipy_tools + scikit_learn_list\n",
    "print(datascience_in_python_list2)\n",
    "print(len(datascience_in_python_list2))\n",
    "print(max(datascience_in_python_list2)) # latest (first) letter in the alphabet\n",
    "print(min(datascience_in_python_list2)) # earlist (first) letter in the alphabet"
   ]
  },
  {
   "cell_type": "code",
   "execution_count": 11,
   "metadata": {
    "collapsed": false
   },
   "outputs": [
    {
     "name": "stdout",
     "output_type": "stream",
     "text": [
      "0\n",
      "5\n"
     ]
    },
    {
     "data": {
      "text/plain": [
       "5"
      ]
     },
     "execution_count": 11,
     "metadata": {},
     "output_type": "execute_result"
    }
   ],
   "source": [
    "wrj_tuple = (0, 5, 0, 0, 1)\n",
    "new_tuple = list(wrj_tuple)\n",
    "new_list = tuple(new_tuple)\n",
    "print(min(new_tuple))\n",
    "print(max(new_tuple))\n",
    "len(new_list)"
   ]
  },
  {
   "cell_type": "code",
   "execution_count": 17,
   "metadata": {
    "collapsed": false
   },
   "outputs": [
    {
     "name": "stdout",
     "output_type": "stream",
     "text": [
      "{'regression': 'logistic_regression_algorithm', 'preprocessing': 'preprocessing_module', 'classification': 'nearest_neighbors_algorithm', 'dimensionality_reduction_algorithm': 'feature_selection_algorithm', 'model_selection': 'cross_validation_module', 'clustering': 'k_means_algorithm'}\n",
      "logistic_regression_algorithm\n",
      "{'regression': 'logistic_regression_algorithm', 'preprocessing': 'preprocessing_module', 'dimensionality_reduction_algorithm': 'feature_selection_algorithm', 'model_selection': 'cross_validation_module', 'clustering': 'k_means_algorithm'}\n",
      "5\n",
      "{'regression': 'logistic_regression_algorithm', 'preprocessing': 'feature_extraction_module', 'dimensionality_reduction_algorithm': 'feature_selection_algorithm', 'model_selection': 'cross_validation_module', 'clustering': 'k_means_algorithm'}\n",
      "feature_extraction_module\n",
      "dict_keys(['regression', 'preprocessing', 'dimensionality_reduction_algorithm', 'model_selection', 'clustering'])\n",
      "dict_values(['logistic_regression_algorithm', 'feature_extraction_module', 'feature_selection_algorithm', 'cross_validation_module', 'k_means_algorithm'])\n"
     ]
    }
   ],
   "source": [
    "scikit_learn_algorithms_and_modules = {'classification' : 'nearest_neighbors_algorithm', 'regression' : 'logistic_regression_algorithm', 'clustering' : 'k_means_algorithm', 'dimensionality_reduction_algorithm': 'feature_selection_algorithm', 'model_selection': 'cross_validation_module', 'preprocessing': 'preprocessing_module'}\n",
    "print(scikit_learn_algorithms_and_modules)\n",
    "print(scikit_learn_algorithms_and_modules['regression'])\n",
    "del scikit_learn_algorithms_and_modules['classification']\n",
    "print(scikit_learn_algorithms_and_modules)\n",
    "scikit_learn_algorithms_and_modules['preprocessing'] = 'feature_extraction_module'\n",
    "print(len(scikit_learn_algorithms_and_modules))\n",
    "print(scikit_learn_algorithms_and_modules)\n",
    "print(scikit_learn_algorithms_and_modules.get(\"preprocessing\"))\n",
    "print(scikit_learn_algorithms_and_modules.keys())\n",
    "print(scikit_learn_algorithms_and_modules.values())"
   ]
  },
  {
   "cell_type": "code",
   "execution_count": 28,
   "metadata": {
    "collapsed": false
   },
   "outputs": [
    {
     "name": "stdout",
     "output_type": "stream",
     "text": [
      "You are old enough to drink\n",
      "You are old enough to rent a car at any rental place\n",
      "You will not get your first AARP card this year\n"
     ]
    }
   ],
   "source": [
    "age = 100\n",
    "if age > 21:\n",
    "    print('You are old enough to drink')\n",
    "else :\n",
    "    print('You are not old enough to drink')\n",
    "    \n",
    "if age >= 25 :\n",
    "    print('You are old enough to rent a car at any rental place')\n",
    "elif age >= 16 :\n",
    "    print(\"You are old enough to drive a car\")\n",
    "else : print(\"You are not old enough to drive\")\n",
    "    \n",
    "if ((age >= 1) and (age <= 18)):\n",
    "    print(\"You are not an adult\")\n",
    "elif (age == 0) or (age >= 123):\n",
    "    print(\"You are not alive\")\n",
    "elif not(age == 50):\n",
    "    print(\"You will not get your first AARP card this year\")\n",
    "else:\n",
    "    print(\"You are an adult or a 16 year old\")"
   ]
  },
  {
   "cell_type": "code",
   "execution_count": 29,
   "metadata": {
    "collapsed": false
   },
   "outputs": [
    {
     "name": "stdout",
     "output_type": "stream",
     "text": [
      "0 1 2 3 4 5 6 7 8 9 \n",
      "\n",
      "classification\n",
      "regresssion\n",
      "clustering\n",
      "dimensionality reduction\n",
      "model selection\n",
      "preprocessing\n",
      "\n",
      "\n",
      "2\n",
      "4\n",
      "6\n",
      "7\n",
      "10\n",
      "\n",
      "\n",
      "1\n",
      "2\n",
      "3\n",
      "10\n",
      "20\n",
      "30\n",
      "100\n",
      "200\n",
      "300\n"
     ]
    }
   ],
   "source": [
    "for x in range(0, 10):\n",
    "    print(x, '', end=\"\")\n",
    "print('\\n')\n",
    "scikit_learn_list = ['classification', 'regresssion', 'clustering', 'dimensionality reduction', 'model selection', 'preprocessing']\n",
    "\n",
    "for y in scikit_learn_list:\n",
    "    print(y)\n",
    "print('\\n')  \n",
    "\n",
    "# general for loops\n",
    "for x in [2, 4, 6, 7, 10]:\n",
    "    print(x)\n",
    "    \n",
    "num_list = [[1, 2, 3], [10,20,30],[100,200,300]]\n",
    "print('\\n')\n",
    "for x in range(0,3):\n",
    "    for y in range(0,3):\n",
    "        print(num_list[x][y])"
   ]
  },
  {
   "cell_type": "code",
   "execution_count": 72,
   "metadata": {
    "collapsed": false
   },
   "outputs": [
    {
     "name": "stdout",
     "output_type": "stream",
     "text": [
      "82\n",
      "99\n",
      "92\n",
      "48\n",
      "14\n",
      "30\n",
      "57\n",
      "84\n",
      "61\n",
      "34\n",
      "24\n",
      "98\n",
      "73\n",
      "88\n",
      "47\n",
      "64\n",
      "72\n",
      "31\n",
      "66\n",
      "11\n",
      "28\n",
      "80\n",
      "81\n",
      "53\n",
      "89\n",
      "97\n",
      "30\n",
      "49\n",
      "60\n",
      "58\n",
      "50\n",
      "39\n",
      "89\n",
      "14\n",
      "38\n",
      "54\n",
      "39\n",
      "12\n",
      "29\n",
      "68\n",
      "75\n",
      "77\n",
      "30\n",
      "66\n",
      "59\n",
      "45\n",
      "97\n",
      "6\n",
      "73\n",
      "72\n",
      "98\n",
      "2\n",
      "91\n",
      "29\n",
      "19\n",
      "54\n",
      "93\n",
      "4\n",
      "75\n",
      "68\n",
      "82\n",
      "65\n",
      "97\n",
      "11\n",
      "76\n",
      "48\n",
      "19\n",
      "28\n",
      "57\n",
      "85\n",
      "39\n",
      "60\n",
      "86\n",
      "31\n",
      "92\n",
      "78\n",
      "46\n",
      "40\n",
      "17\n",
      "78\n",
      "74\n",
      "6\n",
      "6\n",
      "50\n",
      "71\n",
      "6\n",
      "30\n",
      "41\n",
      "97\n",
      "6\n",
      "88\n",
      "17\n",
      "64\n",
      "22\n",
      "20\n",
      "45\n",
      "59\n",
      "63\n",
      "78\n",
      "74\n",
      "58\n",
      "57\n",
      "72\n",
      "80\n",
      "93\n",
      "39\n",
      "13\n",
      "28\n",
      "57\n",
      "38\n",
      "51\n",
      "83\n",
      "82\n",
      "86\n",
      "7\n",
      "75\n",
      "16\n",
      "61\n",
      "61\n",
      "89\n",
      "43\n",
      "77\n",
      "29\n",
      "58\n",
      "58\n",
      "36\n",
      "65\n",
      "74\n",
      "83\n",
      "54\n",
      "9\n",
      "96\n",
      "38\n",
      "98\n",
      "59\n",
      "7\n",
      "24\n",
      "40\n",
      "5\n",
      "67\n",
      "57\n",
      "0\n",
      "85\n",
      "22\n",
      "44\n",
      "68\n",
      "69\n",
      "51\n",
      "15\n"
     ]
    }
   ],
   "source": [
    "random_num = random.randrange(0,100)\n",
    "\n",
    "# while loop\n",
    "while(random_num != 15):\n",
    "    print(random_num)\n",
    "    random_num = random.randrange(0,100)\n",
    "    \n",
    "print(random_num)"
   ]
  },
  {
   "cell_type": "code",
   "execution_count": 30,
   "metadata": {
    "collapsed": false
   },
   "outputs": [
    {
     "name": "stdout",
     "output_type": "stream",
     "text": [
      "0\n",
      "2\n",
      "4\n",
      "6\n",
      "8\n"
     ]
    }
   ],
   "source": [
    "i = 0;\n",
    "\n",
    "# breaks\n",
    "\n",
    "while(i <= 20):\n",
    "    if(i%2 == 0):\n",
    "        print(i)\n",
    "    elif(i == 9):\n",
    "        break\n",
    "    else:\n",
    "        i += 1\n",
    "        continue\n",
    "        \n",
    "    i += 1\n",
    "    \n",
    "\n"
   ]
  },
  {
   "cell_type": "code",
   "execution_count": 31,
   "metadata": {
    "collapsed": false
   },
   "outputs": [
    {
     "name": "stdout",
     "output_type": "stream",
     "text": [
      "5\n",
      "What is your name\n",
      "Hello \n",
      "i'll\n",
      "Floor\n",
      "i'll catch you if you fall - The \n",
      "i'llbe there\n",
      "X is my favorite letter and my number 1 number is 0.14000\n"
     ]
    }
   ],
   "source": [
    "# functions\n",
    "def addNumber(fNum, lNum):\n",
    "    sumNum = fNum + lNum\n",
    "    return sumNum\n",
    "string = addNumber(1, 4)\n",
    "print(string)\n",
    "print('What is your name')\n",
    "name = sys.stdin.readline()\n",
    "print('Hello', name)\n",
    "long_string = \"i'll catch you if you fall - The Floor\"\n",
    "print(long_string[0:4])\n",
    "print(long_string[-5:])\n",
    "print(long_string[:-5])\n",
    "print(long_string[:4] + \"be there\")\n",
    "print(\"%c is my %s letter and my number %d number is %.5f\" % ('X', 'favorite', 1, .14))"
   ]
  },
  {
   "cell_type": "code",
   "execution_count": 32,
   "metadata": {
    "collapsed": false
   },
   "outputs": [
    {
     "name": "stdout",
     "output_type": "stream",
     "text": [
      "I'll catch you if you fall - the floor\n",
      "33\n",
      "False\n",
      "False\n",
      "38\n",
      "i'll catch you if you fall - The Ground\n",
      "i'll catch you if you fall - The Floor\n",
      "[\"i'll\", 'catch', 'you', 'if', 'you', 'fall', '-', 'The', 'Floor']\n"
     ]
    }
   ],
   "source": [
    "# methods\n",
    "print(long_string.capitalize())\n",
    "print(long_string.find(\"Floor\"))\n",
    "print(long_string.isalpha())\n",
    "print(long_string.isalnum())\n",
    "print(len(long_string))\n",
    "print(long_string.replace(\"Floor\", \"Ground\"))\n",
    "print(long_string.strip())\n",
    "quote_list = long_string.split(\" \")\n",
    "print(quote_list)"
   ]
  },
  {
   "cell_type": "code",
   "execution_count": 33,
   "metadata": {
    "collapsed": false
   },
   "outputs": [
    {
     "name": "stdout",
     "output_type": "stream",
     "text": [
      "wb\n",
      "test.txt\n",
      "Write me to the file\n",
      "\n"
     ]
    }
   ],
   "source": [
    "# you will need a test.txt in the current directory for this one\n",
    "test_file = open(\"test.txt\", \"wb\")\n",
    "print(test_file.mode)\n",
    "print(test_file.name)\n",
    "test_file.write(bytes(\"Write me to the file\\n\", 'UTF-8'))\n",
    "test_file.close()\n",
    "test_file = open(\"test.txt\", \"r+\")\n",
    "text_in_file = test_file.read()\n",
    "print(text_in_file)\n",
    "os.remove(\"test.txt\")\n",
    "\n"
   ]
  },
  {
   "cell_type": "code",
   "execution_count": 34,
   "metadata": {
    "collapsed": false
   },
   "outputs": [
    {
     "name": "stdout",
     "output_type": "stream",
     "text": [
      "Whiskers is 33 cm tall and 10 kilograms and says Meow\n",
      "Spot is 53 cm tall and 27 kilograms and says Ruff His owner is Sam\n",
      "Animal\n",
      "Dog\n",
      "RuffRuffRuffRuff\n",
      "Ruff\n"
     ]
    }
   ],
   "source": [
    "# classes\n",
    "from xml.etree.ElementTree import tostring\n",
    "class Animal:\n",
    "    _name = \"\"\n",
    "    _height = 0\n",
    "    _weight = 0\n",
    "    _sound = 0\n",
    "    \n",
    "    def __init__(self, name, height, weight, sound):\n",
    "        self._name = name\n",
    "        self._height = height\n",
    "        self._weight = weight\n",
    "        self._sound = sound\n",
    "        \n",
    "    def set_name(self, name):\n",
    "        self._name = name\n",
    "    \n",
    "    def set_height(self, weight):\n",
    "        self._height = height\n",
    "        \n",
    "    def set_sound(self, sound):\n",
    "        self._sound = sound\n",
    "        \n",
    "    def get_name(self):\n",
    "        return self._name\n",
    "    \n",
    "    def get_height(self):\n",
    "        return str(self._height)\n",
    "    \n",
    "    def get_weight(self):\n",
    "        return str(self._weight)\n",
    "        \n",
    "    def get_sound(self):\n",
    "        return self._sound\n",
    "    \n",
    "    def get_type(self):\n",
    "        print(\"Animal\")\n",
    "        \n",
    "    def toString(self):\n",
    "        return \"{} is {} cm tall and {} kilograms and says {}\".format(self._name,\n",
    "                                                                 self._height,\n",
    "                                                                 self._weight,\n",
    "                                                                 self._sound)\n",
    "cat = Animal('Whiskers', 33, 10, 'Meow')\n",
    "print(cat.toString())\n",
    "\n",
    "class Dog(Animal):\n",
    "    _owner = \"\"\n",
    "    \n",
    "    def __init__(self, name, height, weight, sound, owner):\n",
    "        self.__owner = owner\n",
    "        super(Dog, self).__init__(name, height, weight, sound)\n",
    "        \n",
    "    def set_owner(self, owner):\n",
    "        self._owner = owner\n",
    "        \n",
    "    def get_owner(self):\n",
    "        return self._owner\n",
    "    \n",
    "    def get_type(self):\n",
    "        print(\"Dog\")\n",
    "        \n",
    "    def toString(self):\n",
    "        return \"{} is {} cm tall and {} kilograms and says {} His owner is {}\".format(self._name,\n",
    "                                                                 self._height,\n",
    "                                                                 self._weight,\n",
    "                                                                 self._sound,\n",
    "                                                                 self.__owner)\n",
    "    def multiple_sounds(self, how_many=None):\n",
    "        if how_many is None:\n",
    "            print(self.get_sound())\n",
    "        else:\n",
    "            print(self.get_sound() * how_many)\n",
    "            \n",
    "spot = Dog(\"Spot\", 53, 27, \"Ruff\", \"Sam\")\n",
    "\n",
    "print(spot.toString())\n",
    "        \n",
    "class AnimalTesting:\n",
    "    def get_type(self, animal):\n",
    "        animal.get_type()\n",
    "        \n",
    "test_animals = AnimalTesting()\n",
    "\n",
    "test_animals.get_type(cat)\n",
    "test_animals.get_type(spot)\n",
    "    \n",
    "spot.multiple_sounds(4)\n",
    "spot.multiple_sounds(1)\n",
    "    "
   ]
  },
  {
   "cell_type": "code",
   "execution_count": 36,
   "metadata": {
    "collapsed": true
   },
   "outputs": [],
   "source": [
    "# Thanks for visiting the Upper Valley Data Scientists Python tutorial. \n",
    "# The tutorial is highly based on Derek Banas' 45 min tutorial.\n",
    "# In fact, the second half of the tutorial is Derek's work verbatim.\n",
    "# You can find it here: https://www.youtube.com/watch?v=N4mEzFDjqtA\n",
    "# I hope this helps data scientists new to Python. Thank you."
   ]
  },
  {
   "cell_type": "code",
   "execution_count": null,
   "metadata": {
    "collapsed": true
   },
   "outputs": [],
   "source": []
  }
 ],
 "metadata": {
  "anaconda-cloud": {},
  "kernelspec": {
   "display_name": "Python [conda env:py35]",
   "language": "python",
   "name": "conda-env-py35-py"
  },
  "language_info": {
   "codemirror_mode": {
    "name": "ipython",
    "version": 3
   },
   "file_extension": ".py",
   "mimetype": "text/x-python",
   "name": "python",
   "nbconvert_exporter": "python",
   "pygments_lexer": "ipython3",
   "version": "3.5.2"
  }
 },
 "nbformat": 4,
 "nbformat_minor": 1
}
